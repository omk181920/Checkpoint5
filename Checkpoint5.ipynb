{
 "cells": [
  {
   "cell_type": "markdown",
   "id": "81e02c00",
   "metadata": {},
   "source": [
    "# Question 1"
   ]
  },
  {
   "cell_type": "code",
   "execution_count": 27,
   "id": "419e99f7",
   "metadata": {},
   "outputs": [
    {
     "name": "stdout",
     "output_type": "stream",
     "text": [
      "x = 1\n",
      "y = 2\n",
      "z = 3\n"
     ]
    }
   ],
   "source": [
    "class Point3D:\n",
    "    def __init__(self,x,y,z):\n",
    "        self.x = x\n",
    "        self.y = y\n",
    "        self.z = z\n",
    "    def my_point(self):\n",
    "        print(\"x =\", +self.x)\n",
    "        print(\"y =\", +self.y)\n",
    "        print(\"z =\", +self.z)\n",
    "x = Point3D(1,2,3)\n",
    "x.my_point()"
   ]
  },
  {
   "cell_type": "markdown",
   "id": "4fe8b03e",
   "metadata": {},
   "source": [
    "# Question 2"
   ]
  },
  {
   "cell_type": "code",
   "execution_count": 30,
   "id": "14b3b0a0",
   "metadata": {},
   "outputs": [
    {
     "name": "stdout",
     "output_type": "stream",
     "text": [
      "l'aire du rectangle est 12\n",
      "le perimetre du rectangle est 14\n"
     ]
    }
   ],
   "source": [
    "class Rectangle:\n",
    "    def __init__(self,lenght,wight):\n",
    "        self.lenght = lenght \n",
    "        self.wight = wight\n",
    "    def area(self):\n",
    "        print(\"l'aire du rectangle est\", +self.lenght*self.wight)\n",
    "    def perimeter(self):\n",
    "        print(\"le perimetre du rectangle est\",2*(self.lenght+self.wight))\n",
    "p = Rectangle(4,3)\n",
    "p.area()\n",
    "p.perimeter()"
   ]
  },
  {
   "cell_type": "markdown",
   "id": "0956b93c",
   "metadata": {},
   "source": [
    "# Question 3"
   ]
  },
  {
   "cell_type": "code",
   "execution_count": 16,
   "id": "3715b5b0",
   "metadata": {},
   "outputs": [
    {
     "name": "stdout",
     "output_type": "stream",
     "text": [
      "79\n",
      "31\n",
      "the point belongs to the circle\n",
      "the point isn't inside the circle\n"
     ]
    }
   ],
   "source": [
    "from math import pi\n",
    "\n",
    "class Point:\n",
    "    def __init__(self, x, y):\n",
    "        self.x = x\n",
    "        self.y = y\n",
    "\n",
    "class Circle(Point):\n",
    "    def __init__(self, x, y, r):\n",
    "        super().__init__(x, y)\n",
    "        self.O = self.x, self.y\n",
    "        self.r = r\n",
    "    def area(self):\n",
    "        x = pi * self.r**2\n",
    "        return round(x) \n",
    "    def perimetre(self):\n",
    "        z = 2 * pi * self.r\n",
    "        return round(z)\n",
    "    def isInside(self, x, y):\n",
    "        if (x - self.x)**2 + (y - self.y)**2 <= self.r**2:\n",
    "            print(\"the point belongs to the circle\")\n",
    "        else:\n",
    "            print(\"the point isn't inside the circle\")\n",
    "\n",
    "\n",
    "circle1 = Circle(0, 5, 5)\n",
    "point1 = Point(0, 2)\n",
    "point2 = Point(63, 9)\n",
    "print(circle1.area())\n",
    "print(circle1.perimetre())\n",
    "circle1.isInside(point1.x, point1.y)\n",
    "circle1.isInside(point2.x, point2.y)"
   ]
  },
  {
   "cell_type": "markdown",
   "id": "a08e0b14",
   "metadata": {},
   "source": [
    "# Question 4"
   ]
  },
  {
   "cell_type": "code",
   "execution_count": 53,
   "id": "046fea37",
   "metadata": {},
   "outputs": [
    {
     "name": "stdout",
     "output_type": "stream",
     "text": [
      "Bonjour !!! Bienvenue sur la machine de dépôt et de retrait\n",
      "Entrez le montant à déposer: 4000\n",
      "\n",
      " Montant déposé: 4000.0\n",
      "Saisir le montant à retirer: 4000\n",
      "\n",
      " Vous avez retiré: 4000.0\n",
      "\n",
      " Solde net disponible= 0.0\n"
     ]
    }
   ],
   "source": [
    "class Bank_Account:\n",
    "    def __init__(self):\n",
    "        self.balance=0\n",
    "        print(\"Bonjour !!! Bienvenue sur la machine de dépôt et de retrait\")\n",
    "  \n",
    "    def depot(self):\n",
    "        montant=float(input(\"Entrez le montant à déposer: \"))\n",
    "        self.balance += montant\n",
    "        print(\"\\n Montant déposé:\",montant)\n",
    "  \n",
    "    def retrait(self):\n",
    "        montant = float(input(\"Saisir le montant à retirer: \"))\n",
    "        if self.balance >= montant:\n",
    "            self.balance -= montant\n",
    "            print(\"\\n Vous avez retiré:\", montant)\n",
    "        else:\n",
    "            print(\"\\n Solde insuffisant  \")\n",
    "  \n",
    "    def afficher(self):\n",
    "        print(\"\\n Solde net disponible=\",self.balance)\n",
    "s = Bank_Account()   \n",
    "s.depot()\n",
    "s.retrait()\n",
    "s.afficher() "
   ]
  },
  {
   "cell_type": "code",
   "execution_count": null,
   "id": "cf2cd2ff",
   "metadata": {},
   "outputs": [],
   "source": []
  },
  {
   "cell_type": "code",
   "execution_count": null,
   "id": "53dc08aa",
   "metadata": {},
   "outputs": [],
   "source": []
  }
 ],
 "metadata": {
  "kernelspec": {
   "display_name": "Python 3",
   "language": "python",
   "name": "python3"
  },
  "language_info": {
   "codemirror_mode": {
    "name": "ipython",
    "version": 3
   },
   "file_extension": ".py",
   "mimetype": "text/x-python",
   "name": "python",
   "nbconvert_exporter": "python",
   "pygments_lexer": "ipython3",
   "version": "3.8.8"
  }
 },
 "nbformat": 4,
 "nbformat_minor": 5
}
